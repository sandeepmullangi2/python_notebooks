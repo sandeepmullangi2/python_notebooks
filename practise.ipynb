{
 "cells": [
  {
   "cell_type": "code",
   "execution_count": 2,
   "metadata": {},
   "outputs": [
    {
     "name": "stdout",
     "output_type": "stream",
     "text": [
      "1\n"
     ]
    }
   ],
   "source": [
    "#smallest number in a list\n",
    "li=[6,3,2,1]\n",
    "min_v = li[0]   #assign first element as minimum\n",
    "for i in range(len(li)):\n",
    "    if li[i] < min_v:\n",
    "        min_v =li[i]\n",
    "print(min_v)"
   ]
  },
  {
   "cell_type": "code",
   "execution_count": 3,
   "metadata": {},
   "outputs": [
    {
     "name": "stdout",
     "output_type": "stream",
     "text": [
      "6\n"
     ]
    }
   ],
   "source": [
    "#biggest number in a list\n",
    "li=[3,6,2,1]\n",
    "max_v = li[0]   #assign first element as minimum\n",
    "for i in range(len(li)):\n",
    "    if li[i] > max_v:\n",
    "        max_v =li[i]\n",
    "print(max_v)"
   ]
  },
  {
   "cell_type": "code",
   "execution_count": 5,
   "metadata": {},
   "outputs": [
    {
     "data": {
      "text/plain": [
       "[1, 2, 3]"
      ]
     },
     "execution_count": 5,
     "metadata": {},
     "output_type": "execute_result"
    }
   ],
   "source": [
    "#Three smallest elements in a list\n",
    "import heapq\n",
    "\n",
    "k_smallest = heapq.nsmallest(3, li)\n",
    "k_smallest"
   ]
  },
  {
   "cell_type": "code",
   "execution_count": 4,
   "metadata": {},
   "outputs": [
    {
     "data": {
      "text/plain": [
       "[6, 3, 2]"
      ]
     },
     "execution_count": 4,
     "metadata": {},
     "output_type": "execute_result"
    }
   ],
   "source": [
    "#Three biggest elements in a list\n",
    "import heapq\n",
    "\n",
    "k_biigest = heapq.nlargest(3, li)\n",
    "k_biigest"
   ]
  },
  {
   "cell_type": "code",
   "execution_count": 93,
   "metadata": {},
   "outputs": [
    {
     "name": "stdout",
     "output_type": "stream",
     "text": [
      "99\n",
      "45\n"
     ]
    }
   ],
   "source": [
    "#first and second biggest number in a list\n",
    "li = [10, 20, 4, 45, 99] \n",
    "fmax=max(li[0],li[1])\n",
    "smax=min(li[0],li[1])\n",
    "for i in range(2,len(li)):\n",
    "    if li[i] > fmax and li[i] > smax:\n",
    "        smax=fmax\n",
    "        fmax=li[i]\n",
    "    elif li[i] > smax and li[i] < fmax:\n",
    "        smax=li[i]\n",
    "        \n",
    "print(fmax)\n",
    "print(smax)\n",
    "        "
   ]
  },
  {
   "cell_type": "code",
   "execution_count": 96,
   "metadata": {},
   "outputs": [
    {
     "name": "stdout",
     "output_type": "stream",
     "text": [
      "5\n",
      "7\n"
     ]
    }
   ],
   "source": [
    "#first and second smallest number in a list\n",
    "li = [5, 10, 7, 45, 10]\n",
    "fmin=min(li[0],li[1])\n",
    "smin=max(li[0],li[1])\n",
    "for i in range(2,len(li)):\n",
    "    if li[i] < fmin and li[i] < smin:\n",
    "        smin=fmin\n",
    "        fmin=li[i]\n",
    "    elif li[i] > fmin and li[i] < smin:\n",
    "        smin=li[i]\n",
    "        \n",
    "print(fmin)\n",
    "print(smin)\n",
    "        "
   ]
  },
  {
   "cell_type": "code",
   "execution_count": 101,
   "metadata": {},
   "outputs": [
    {
     "name": "stdout",
     "output_type": "stream",
     "text": [
      "27.5\n"
     ]
    }
   ],
   "source": [
    "#https://www.geeksforgeeks.org/python-programming-examples/\n",
    "#Basic Programs:\n",
    "#1.Python program to add two numbers\n",
    "num1 = 15.5\n",
    "num2 = 12\n",
    "\n",
    "sum1 =num1 + num2\n",
    "print(sum1)\n",
    "    "
   ]
  },
  {
   "cell_type": "code",
   "execution_count": 113,
   "metadata": {},
   "outputs": [
    {
     "name": "stdout",
     "output_type": "stream",
     "text": [
      "6\n",
      "6\n"
     ]
    }
   ],
   "source": [
    "#2.Python Program for factorial of a number\n",
    "num = 3\n",
    "def fact(n):\n",
    "    if n == 0:\n",
    "        return 1\n",
    "    if n > 1:\n",
    "        n = n * fact(n-1)\n",
    "    return n\n",
    "print(fact(num))\n",
    "\n",
    "\n",
    "def factorial(n): \n",
    "    if n < 0: \n",
    "        return 0\n",
    "    elif n == 0 or n == 1: \n",
    "        return 1\n",
    "    else: \n",
    "        fact = 1\n",
    "        while(n > 1): \n",
    "            fact *= n \n",
    "            n -= 1\n",
    "        return fact \n",
    "print(factorial(num))\n"
   ]
  },
  {
   "cell_type": "code",
   "execution_count": 116,
   "metadata": {},
   "outputs": [
    {
     "name": "stdout",
     "output_type": "stream",
     "text": [
      "210.0\n"
     ]
    }
   ],
   "source": [
    "#3.Python Program for simple interest\n",
    "P = 3000\n",
    "R = 7\n",
    "T = 1\n",
    "\n",
    "def simple_interest(P,T,R): \n",
    "    i = (P*T*R)/100\n",
    "    return i\n",
    "\n",
    "print(simple_interest(P,T,R))"
   ]
  },
  {
   "cell_type": "code",
   "execution_count": 123,
   "metadata": {},
   "outputs": [
    {
     "name": "stdout",
     "output_type": "stream",
     "text": [
      "210.0\n"
     ]
    }
   ],
   "source": [
    "#4.Python Program for compound interest\n",
    "def compound_interest(P,T,R): \n",
    "    i = P * pow((1 + R/100),T)\n",
    "    i = i - P\n",
    "    return i\n",
    "print(compound_interest(P,T,R))"
   ]
  },
  {
   "cell_type": "code",
   "execution_count": 134,
   "metadata": {},
   "outputs": [
    {
     "name": "stdout",
     "output_type": "stream",
     "text": [
      "Armstrong number\n"
     ]
    }
   ],
   "source": [
    "#5.Python Program to check Armstrong Number\n",
    "Number=1634\n",
    "def is_armstrong(Number):\n",
    "    Number = str(Number)\n",
    "    sum1=0\n",
    "    N = len(Number)\n",
    "    for i in Number:\n",
    "        i = int(i)\n",
    "        i = pow(i,N)\n",
    "        sum1 = sum1 +i\n",
    "    if sum1 == int(Number):\n",
    "        print('Armstrong number')\n",
    "    else:\n",
    "        print('Not Armstrong number')\n",
    "\n",
    "is_armstrong(Number)\n",
    "    \n",
    "    "
   ]
  },
  {
   "cell_type": "code",
   "execution_count": 137,
   "metadata": {},
   "outputs": [
    {
     "name": "stdout",
     "output_type": "stream",
     "text": [
      "12.56\n"
     ]
    }
   ],
   "source": [
    "#6.Python Program for Program to find area of a circle\n",
    "def area_of_circle(r):\n",
    "    area=3.14*pow(r,2)\n",
    "    return area\n",
    "\n",
    "print(area_of_circle(2))"
   ]
  },
  {
   "cell_type": "code",
   "execution_count": 138,
   "metadata": {},
   "outputs": [
    {
     "name": "stdout",
     "output_type": "stream",
     "text": [
      "2\n",
      "3\n",
      "4\n",
      "5\n",
      "7\n",
      "11\n",
      "13\n",
      "17\n",
      "19\n",
      "23\n",
      "29\n",
      "31\n",
      "37\n",
      "41\n",
      "43\n",
      "47\n",
      "53\n",
      "59\n",
      "61\n",
      "67\n",
      "71\n",
      "73\n",
      "79\n",
      "83\n",
      "89\n",
      "97\n"
     ]
    }
   ],
   "source": [
    "#7.Python program to print all Prime numbers in an Interval\n",
    "num1=2\n",
    "num2=100\n",
    "def prime(num1,num2):\n",
    "    for num in range(num1,num2+1):\n",
    "        if num > 1:\n",
    "            n=num//2\n",
    "            for i in range(2,n):\n",
    "                if num%i == 0:\n",
    "                    break\n",
    "            else:\n",
    "                print(num)\n",
    "        else:\n",
    "            print(num)\n",
    "prime(num1,num2)\n",
    "    \n"
   ]
  },
  {
   "cell_type": "code",
   "execution_count": 139,
   "metadata": {},
   "outputs": [
    {
     "name": "stdout",
     "output_type": "stream",
     "text": [
      "prime\n"
     ]
    }
   ],
   "source": [
    "#8.Python program to check whether a number is Prime or not\n",
    "num=3\n",
    "def is_prime(num):\n",
    "    if num > 1:\n",
    "        n=num//2\n",
    "        for i in range(2,n):\n",
    "            if num%i == 0:\n",
    "                print('not prime')\n",
    "                break\n",
    "        else:\n",
    "            print('prime')\n",
    "    else:\n",
    "        print('prime')\n",
    "is_prime(num)\n",
    "    "
   ]
  },
  {
   "cell_type": "code",
   "execution_count": 144,
   "metadata": {},
   "outputs": [
    {
     "name": "stdout",
     "output_type": "stream",
     "text": [
      "4181\n",
      "4181\n"
     ]
    }
   ],
   "source": [
    "#9.Python Program for n-th Fibonacci number\n",
    "def fibonacci(n):\n",
    "    a=0\n",
    "    b=1\n",
    "    if n == 1:\n",
    "        return a\n",
    "    elif n == 2:\n",
    "        return b\n",
    "    else:\n",
    "        for i in range(2,n):\n",
    "            c=a+b\n",
    "            a=b\n",
    "            b=c\n",
    "    return b\n",
    "print(fibonacci(20))\n",
    "\n",
    "\n",
    "def fibonacci(n):\n",
    "    a=0\n",
    "    b=1\n",
    "    if n == 1:\n",
    "        return a\n",
    "    elif n == 2:\n",
    "        return b\n",
    "    else:\n",
    "        return fibonacci(n-1) + fibonacci(n-2)\n",
    "print(fibonacci(20))"
   ]
  },
  {
   "cell_type": "code",
   "execution_count": null,
   "metadata": {},
   "outputs": [],
   "source": [
    "#10.Python Program for Fibonacci numbers\n",
    "def fibonacci(num):\n",
    "    for n in range(1,num+1):\n",
    "        a=0\n",
    "        b=1\n",
    "        if n == 1:\n",
    "            print(a)\n",
    "        elif n == 2:\n",
    "            print(b)\n",
    "        else:\n",
    "            for i in range(2,n):\n",
    "                c=a+b\n",
    "                a=b\n",
    "                b=c\n",
    "            print(b)\n",
    "print(fibonacci(20))"
   ]
  },
  {
   "cell_type": "code",
   "execution_count": 140,
   "metadata": {},
   "outputs": [
    {
     "name": "stdout",
     "output_type": "stream",
     "text": [
      "The ASCII value of 'g' is 103\n"
     ]
    }
   ],
   "source": [
    "#13.Program to print ASCII Value of a character\n",
    "c = 'g'\n",
    "print(\"The ASCII value of '\" + c + \"' is\", ord(c)) "
   ]
  },
  {
   "cell_type": "code",
   "execution_count": 141,
   "metadata": {},
   "outputs": [
    {
     "name": "stdout",
     "output_type": "stream",
     "text": [
      "30\n"
     ]
    }
   ],
   "source": [
    "#14.Python Program for Sum of squares of first n natural numbers\n",
    "n = 4\n",
    "def squaresum(n) : \n",
    "    sm = 0\n",
    "    for i in range(1, n+1) : \n",
    "        sm = sm + (i * i) \n",
    "      \n",
    "    return sm \n",
    "\n",
    "print(squaresum(n)) "
   ]
  },
  {
   "cell_type": "code",
   "execution_count": 143,
   "metadata": {},
   "outputs": [
    {
     "name": "stdout",
     "output_type": "stream",
     "text": [
      "784\n"
     ]
    }
   ],
   "source": [
    "#15.Python Program for cube sum of first n natural numbers\n",
    "n = 7\n",
    "def cubesum(n) : \n",
    "    sm = 0\n",
    "    for i in range(1, n+1) : \n",
    "        sm = sm + (i * i * i) \n",
    "      \n",
    "    return sm \n",
    "\n",
    "print(cubesum(n))\n"
   ]
  },
  {
   "cell_type": "code",
   "execution_count": 148,
   "metadata": {},
   "outputs": [
    {
     "name": "stdout",
     "output_type": "stream",
     "text": [
      "34\n"
     ]
    },
    {
     "ename": "TypeError",
     "evalue": "'float' object is not callable",
     "output_type": "error",
     "traceback": [
      "\u001b[0;31m---------------------------------------------------------------------------\u001b[0m",
      "\u001b[0;31mTypeError\u001b[0m                                 Traceback (most recent call last)",
      "\u001b[0;32m<ipython-input-148-4c5b27e81bf6>\u001b[0m in \u001b[0;36m<module>\u001b[0;34m\u001b[0m\n\u001b[1;32m     10\u001b[0m \u001b[0;34m\u001b[0m\u001b[0m\n\u001b[1;32m     11\u001b[0m \u001b[0;34m\u001b[0m\u001b[0m\n\u001b[0;32m---> 12\u001b[0;31m \u001b[0mprint\u001b[0m\u001b[0;34m(\u001b[0m\u001b[0msum\u001b[0m\u001b[0;34m(\u001b[0m\u001b[0marr\u001b[0m\u001b[0;34m)\u001b[0m\u001b[0;34m)\u001b[0m\u001b[0;34m\u001b[0m\u001b[0;34m\u001b[0m\u001b[0m\n\u001b[0m",
      "\u001b[0;31mTypeError\u001b[0m: 'float' object is not callable"
     ]
    }
   ],
   "source": [
    "#Array Programs:\n",
    "#1.Python Program to find sum of array\n",
    "\n",
    "arr = [12, 3, 4, 15] \n",
    "sum1=0\n",
    "for i in arr:\n",
    "    sum1 = sum1 +i\n",
    "print(sum1)\n",
    "\n",
    "\n",
    "\n",
    "print(sum(arr))"
   ]
  },
  {
   "cell_type": "code",
   "execution_count": 146,
   "metadata": {},
   "outputs": [
    {
     "name": "stdout",
     "output_type": "stream",
     "text": [
      "[3, 4, 5, 6, 7, 1, 2]\n"
     ]
    }
   ],
   "source": [
    "#3.Python Program for array rotation\n",
    "arr = [1, 2, 3, 4, 5, 6, 7] \n",
    "rot=2\n",
    "def array_rot(arr,rot):   \n",
    "    temp=arr[0:rot]\n",
    "    arr1=arr[rot:]\n",
    "    return arr1+temp\n",
    "x=array_rot(arr,rot)\n",
    "print(x)"
   ]
  },
  {
   "cell_type": "code",
   "execution_count": 147,
   "metadata": {},
   "outputs": [
    {
     "name": "stdout",
     "output_type": "stream",
     "text": [
      "9\n"
     ]
    }
   ],
   "source": [
    "#6.Python Program for Find reminder of array multiplication divided by n\n",
    "arr =[100, 10, 5, 25, 35, 14]\n",
    "n=11\n",
    "def arr_mul_n(arr,n):\n",
    "    mul=1\n",
    "    for i in arr:\n",
    "        mul=mul*i\n",
    "    mul=mul%n\n",
    "    return mul\n",
    "print(arr_mul_n(arr,n))"
   ]
  },
  {
   "cell_type": "code",
   "execution_count": 149,
   "metadata": {},
   "outputs": [
    {
     "name": "stdout",
     "output_type": "stream",
     "text": [
      "True\n",
      "False\n",
      "False\n",
      "True\n",
      "True\n"
     ]
    }
   ],
   "source": [
    "#8.Python Program to check if given array is Monotonic\n",
    "L =[100, 101, 105, 125, 135, 145]\n",
    "def strictly_increasing(L):\n",
    "    return all(L[i]<L[i+1] for i in range(0,len(L)-1))\n",
    "print(strictly_increasing(L))\n",
    "\n",
    "def strictly_decreasing(L):\n",
    "    return all(L[i]>L[i+1] for i in range(0,len(L)-1))\n",
    "print(strictly_decreasing(L))\n",
    "\n",
    "def non_increasing(L):\n",
    "    return all(L[i]>=L[i+1] for i in range(0,len(L)-1))\n",
    "print(non_increasing(L))\n",
    "\n",
    "def non_decreasing(L):\n",
    "    return all(L[i]<=L[i+1] for i in range(0,len(L)-1))\n",
    "print(non_decreasing(L))\n",
    "\n",
    "def monotonic(L):\n",
    "    return non_increasing(L) or non_decreasing(L)\n",
    "print(monotonic(L))\n",
    "            "
   ]
  },
  {
   "cell_type": "code",
   "execution_count": 156,
   "metadata": {},
   "outputs": [
    {
     "data": {
      "text/plain": [
       "[145, 101, 105, 125, 135, 100]"
      ]
     },
     "execution_count": 156,
     "metadata": {},
     "output_type": "execute_result"
    }
   ],
   "source": [
    "#List Programs:\n",
    "#1.Python program to interchange first and last elements in a list\n",
    "L =[100, 101, 105, 125, 135, 145]\n",
    "L[0],L[-1] = L[-1],L[0]\n",
    "L"
   ]
  },
  {
   "cell_type": "code",
   "execution_count": 157,
   "metadata": {},
   "outputs": [
    {
     "data": {
      "text/plain": [
       "[105, 101, 145, 125, 135, 100]"
      ]
     },
     "execution_count": 157,
     "metadata": {},
     "output_type": "execute_result"
    }
   ],
   "source": [
    "#2.Python program to swap two elements in a list\n",
    "def swap(li,pos1,pos2):\n",
    "    li[pos1-1],li[pos2-1] = li[pos2-1],li[pos1-1]\n",
    "    return li\n",
    "li = swap(L,1,3)\n",
    "li"
   ]
  },
  {
   "cell_type": "code",
   "execution_count": 158,
   "metadata": {},
   "outputs": [
    {
     "data": {
      "text/plain": [
       "True"
      ]
     },
     "execution_count": 158,
     "metadata": {},
     "output_type": "execute_result"
    }
   ],
   "source": [
    "#3.Python program to remove Nth occurrence of the given word\n",
    "li=[\"geeks\", \"for\", \"geeks\"]\n",
    "word = \"geeks\" \n",
    "N = 2\n",
    "def remove_ele(li,word,N):\n",
    "    count=0\n",
    "    for i in range(0, len(li)):\n",
    "        if li[i] == word:\n",
    "            count=count+1\n",
    "            if N == count:\n",
    "                del li[i]\n",
    "                return True\n",
    "    return False\n",
    "x=remove_ele(li,word,N)\n",
    "x    "
   ]
  },
  {
   "cell_type": "code",
   "execution_count": 161,
   "metadata": {},
   "outputs": [
    {
     "name": "stdout",
     "output_type": "stream",
     "text": [
      "Element Exists\n",
      "Element Exists\n"
     ]
    }
   ],
   "source": [
    "#5.Python | Ways to check if element exists in list\n",
    "test_list = [ 1, 6, 3, 5, 3, 4 ] \n",
    "for i in test_list: \n",
    "    if(i == 4) : \n",
    "        print (\"Element Exists\") \n",
    "        \n",
    "if (4 in test_list): \n",
    "    print (\"Element Exists\") "
   ]
  },
  {
   "cell_type": "code",
   "execution_count": 174,
   "metadata": {},
   "outputs": [
    {
     "name": "stdout",
     "output_type": "stream",
     "text": [
      "[1, 2, 3]\n",
      "[5, 6, 7]\n",
      "[]\n",
      "[]\n"
     ]
    }
   ],
   "source": [
    "#6.Different ways to clear a list in Python\n",
    "list1 = [1, 2, 3] \n",
    "list2 = [5, 6, 7]\n",
    "print(list1)\n",
    "print(list2)\n",
    "list1.clear()\n",
    "del list2[:]\n",
    "print(list1)\n",
    "print(list2)"
   ]
  },
  {
   "cell_type": "code",
   "execution_count": null,
   "metadata": {},
   "outputs": [],
   "source": [
    "#7.Python | Reversing a List\n",
    "list2 = [5, 6, 7]\n",
    "x=[ele for ele in reversed(list2)]\n",
    "print(x)\n",
    "\n",
    "\n",
    "list2 = [5, 6, 7]\n",
    "list2.reverse()\n",
    "print(list2)\n",
    "\n",
    "\n",
    "list2 = [5, 6, 7]\n",
    "x=list2[::-1]\n",
    "print(x)\n"
   ]
  },
  {
   "cell_type": "code",
   "execution_count": 186,
   "metadata": {},
   "outputs": [
    {
     "name": "stdout",
     "output_type": "stream",
     "text": [
      "[4, 8, 2, 10, 15, 18]\n",
      "[4, 8, 2, 10, 15, 18]\n"
     ]
    }
   ],
   "source": [
    "#8.Python | Cloning or Copying a list\n",
    "li1 = [4, 8, 2, 10, 15, 18]\n",
    "li_copy = li1[:] \n",
    "print(li_copy)\n",
    "\n",
    "\n",
    "\n",
    "li1 = [4, 8, 2, 10, 15, 18] \n",
    "li_copy = [] \n",
    "li_copy.extend(li1)\n",
    "print(li_copy)"
   ]
  },
  {
   "cell_type": "code",
   "execution_count": 187,
   "metadata": {},
   "outputs": [
    {
     "name": "stdout",
     "output_type": "stream",
     "text": [
      "5\n",
      "5\n",
      "5\n"
     ]
    }
   ],
   "source": [
    "#9.Python | Count occurrences of an element in a list\n",
    "lst = [8, 6, 8, 10, 8, 20, 10, 8, 8] \n",
    "x = 8\n",
    "def countX(lst, x): \n",
    "    count = 0\n",
    "    for ele in lst: \n",
    "        if (ele == x): \n",
    "            count = count + 1\n",
    "    return count \n",
    "z=countX(lst, x)\n",
    "print(z)\n",
    "\n",
    "print(lst.count(x))\n",
    "\n",
    "\n",
    "from collections import Counter \n",
    "d = Counter(lst)\n",
    "print(d[x])"
   ]
  },
  {
   "cell_type": "code",
   "execution_count": 188,
   "metadata": {},
   "outputs": [
    {
     "name": "stdout",
     "output_type": "stream",
     "text": [
      "74\n"
     ]
    },
    {
     "ename": "TypeError",
     "evalue": "'float' object is not callable",
     "output_type": "error",
     "traceback": [
      "\u001b[0;31m---------------------------------------------------------------------------\u001b[0m",
      "\u001b[0;31mTypeError\u001b[0m                                 Traceback (most recent call last)",
      "\u001b[0;32m<ipython-input-188-d0ca7c592e07>\u001b[0m in \u001b[0;36m<module>\u001b[0;34m\u001b[0m\n\u001b[1;32m      7\u001b[0m \u001b[0mprint\u001b[0m\u001b[0;34m(\u001b[0m\u001b[0mtotal\u001b[0m\u001b[0;34m)\u001b[0m\u001b[0;34m\u001b[0m\u001b[0;34m\u001b[0m\u001b[0m\n\u001b[1;32m      8\u001b[0m \u001b[0;34m\u001b[0m\u001b[0m\n\u001b[0;32m----> 9\u001b[0;31m \u001b[0mprint\u001b[0m\u001b[0;34m(\u001b[0m\u001b[0msum\u001b[0m\u001b[0;34m(\u001b[0m\u001b[0mlist1\u001b[0m\u001b[0;34m)\u001b[0m\u001b[0;34m)\u001b[0m\u001b[0;34m\u001b[0m\u001b[0;34m\u001b[0m\u001b[0m\n\u001b[0m",
      "\u001b[0;31mTypeError\u001b[0m: 'float' object is not callable"
     ]
    }
   ],
   "source": [
    "#10.Python program to find sum of elements in list\n",
    "\n",
    "total = 0\n",
    "list1 = [11, 5, 17, 18, 23]  \n",
    "for x in list1: \n",
    "    total = total + x\n",
    "print(total)\n",
    "\n",
    "print(sum(list1))"
   ]
  },
  {
   "cell_type": "code",
   "execution_count": 2,
   "metadata": {},
   "outputs": [
    {
     "name": "stdout",
     "output_type": "stream",
     "text": [
      "[[1, 2, 3, 4], [5, 6, 7, 8], [9]]\n"
     ]
    }
   ],
   "source": [
    "l = [1, 2, 3, 4, 5, 6, 7, 8, 9]  \n",
    "#0:4\n",
    "#4:8\n",
    "#8:12\n",
    "# How many elements each  \n",
    "# list should have  \n",
    "n = 4\n",
    "   \n",
    "# using list comprehension  \n",
    "x = [l[i:i + n] for i in range(0, len(l), n)]  \n",
    "print(x) "
   ]
  },
  {
   "cell_type": "code",
   "execution_count": 3,
   "metadata": {},
   "outputs": [
    {
     "data": {
      "text/plain": [
       "[0, 3]"
      ]
     },
     "execution_count": 3,
     "metadata": {},
     "output_type": "execute_result"
    }
   ],
   "source": [
    "#General (Given a sum of random 2 numbers in list-->return its indices)\n",
    "d={}\n",
    "target=10\n",
    "r=[]\n",
    "a=[3,4,5,7,10]\n",
    "def func():\n",
    "    for i, j in enumerate(a):\n",
    "        if d.get(j, None):\n",
    "            r = d.get(j)\n",
    "            r.extend([i])\n",
    "            return r\n",
    "        else:\n",
    "            d[target - j] = [i]\n",
    "func()"
   ]
  },
  {
   "cell_type": "code",
   "execution_count": 4,
   "metadata": {},
   "outputs": [
    {
     "name": "stdout",
     "output_type": "stream",
     "text": [
      "Sorted array is: [1, 1, 2, 5, 6, 6, 6, 7, 7, 7, 7, 7, 8, 9, 9, 10, 15]\n"
     ]
    }
   ],
   "source": [
    "#Quick sort\n",
    "#https://www.youtube.com/watch?v=QN9hnmAgmOc\n",
    "def partition(A,lb,ub):\n",
    "    pivot=A[lb]\n",
    "    start=lb\n",
    "    end=ub\n",
    "    while (start < end):\n",
    "        while (A[start] <= pivot and start<len(A)-1):\n",
    "            start=start+1\n",
    "        while (A[end] > pivot):\n",
    "            end=end-1\n",
    "        if (start < end):\n",
    "            A[start],A[end]=A[end],A[start]\n",
    "    A[lb],A[end]=A[end],A[lb]\n",
    "    return end\n",
    "\n",
    "def quickSort(A,lb,ub): \n",
    "    if lb < ub: \n",
    "        pi = partition(A,lb,ub) \n",
    "        quickSort(A, lb, pi-1) \n",
    "        quickSort(A, pi+1, ub) \n",
    "        \n",
    "        \n",
    "A=[7,6,10,5,9,2,1,15,7,8,6,7,7,7,6,9,1]\n",
    "n = len(A) \n",
    "quickSort(A,0,n-1) \n",
    "print (\"Sorted array is:\", A) \n",
    "        "
   ]
  },
  {
   "cell_type": "code",
   "execution_count": null,
   "metadata": {},
   "outputs": [],
   "source": [
    "#Find first unique character in string\n",
    "import collections\n",
    "def firstUniqChar(s):\n",
    "        count = collections.Counter(s)\n",
    "        for idx, ch in enumerate(s):\n",
    "            if count[ch] == 1:\n",
    "                return idx    \n",
    "        return -1\n",
    "x=firstUniqChar('sasanndeep')\n",
    "x"
   ]
  },
  {
   "cell_type": "code",
   "execution_count": 1,
   "metadata": {},
   "outputs": [
    {
     "name": "stdout",
     "output_type": "stream",
     "text": [
      "2 4\n"
     ]
    }
   ],
   "source": [
    "#Find elements where sum is equal to particular number\n",
    "def printpairs(arr,arr_size,sum1):\n",
    "    s=set()\n",
    "    for i in range(0,arr_size):\n",
    "        temp=sum1-arr[i]\n",
    "        if (temp in s):\n",
    "            print(str(arr[i]),str(temp))\n",
    "        s.add(arr[i])\n",
    "A=[1,4,8,45,6,2,3,10,8]\n",
    "n=6\n",
    "printpairs(A,len(A),n)"
   ]
  },
  {
   "cell_type": "code",
   "execution_count": 2,
   "metadata": {},
   "outputs": [
    {
     "name": "stdout",
     "output_type": "stream",
     "text": [
      "[1, 5]\n"
     ]
    }
   ],
   "source": [
    "#Find elements index where sum is equal to particular number\n",
    "def printpairs_index(arr,arr_size,sum1):\n",
    "    d = {}\n",
    "    for i, j in enumerate(A):\n",
    "        if d.get(j, None):\n",
    "            r = d.get(j)\n",
    "            r.extend([i])\n",
    "            print(r)\n",
    "        else:\n",
    "            d[n - j] = [i]\n",
    "A=[1,4,8,45,6,2,3,10,8]\n",
    "n=6\n",
    "printpairs_index(A,len(A),n)"
   ]
  },
  {
   "cell_type": "code",
   "execution_count": null,
   "metadata": {},
   "outputs": [],
   "source": []
  }
 ],
 "metadata": {
  "kernelspec": {
   "display_name": "Python 3",
   "language": "python",
   "name": "python3"
  },
  "language_info": {
   "codemirror_mode": {
    "name": "ipython",
    "version": 3
   },
   "file_extension": ".py",
   "mimetype": "text/x-python",
   "name": "python",
   "nbconvert_exporter": "python",
   "pygments_lexer": "ipython3",
   "version": "3.7.4"
  }
 },
 "nbformat": 4,
 "nbformat_minor": 2
}
